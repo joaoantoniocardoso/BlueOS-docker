{
 "cells": [
  {
   "cell_type": "code",
   "execution_count": 23,
   "metadata": {},
   "outputs": [],
   "source": [
    "a = {\n",
    "    \"foo\": \"bar\",\n",
    "    \"foo2\": \"bar2\"\n",
    "}\n",
    "\n",
    "for key in a.get(\"foo3\", {}).keys():\n",
    "    print(\"a\")"
   ]
  },
  {
   "cell_type": "code",
   "execution_count": 24,
   "metadata": {},
   "outputs": [],
   "source": [
    "import http.client\n",
    "import socket\n",
    "from pydantic import BaseModel\n",
    "from typing import Optional, Union, List, Dict, Any\n",
    "import logging\n",
    "import json\n",
    "from urllib.parse import urlparse\n",
    "\n",
    "\n",
    "class SimpleHttpResponse(BaseModel):\n",
    "    status: Optional[int]\n",
    "    decoded_data: Optional[str]\n",
    "    as_json: Optional[Union[List[Any], Dict[Any, Any]]]\n",
    "    error: Optional[str]\n",
    "    timeout: bool"
   ]
  },
  {
   "cell_type": "code",
   "execution_count": 55,
   "metadata": {},
   "outputs": [
    {
     "name": "stderr",
     "output_type": "stream",
     "text": [
      "WARNING:root:Expecting value: line 1 column 1 (char 0)\n"
     ]
    },
    {
     "name": "stdout",
     "output_type": "stream",
     "text": [
      "/docs\n"
     ]
    },
    {
     "data": {
      "text/plain": [
       "SimpleHttpResponse(status=200, decoded_data='<!-- HTML for static distribution bundle build -->\\n<!DOCTYPE html>\\n<html lang=\"en\">\\n  <head>\\n    <meta charset=\"UTF-8\">\\n    <title>Swagger UI</title>\\n    <link rel=\"stylesheet\" type=\"text/css\" href=\"./swagger-ui.css\" />\\n    <link rel=\"icon\" type=\"image/png\" href=\"./favicon-32x32.png\" sizes=\"32x32\" />\\n    <link rel=\"icon\" type=\"image/png\" href=\"./favicon-16x16.png\" sizes=\"16x16\" />\\n    <style>\\n      html\\n      {\\n        box-sizing: border-box;\\n        overflow: -moz-scrollbars-vertical;\\n        overflow-y: scroll;\\n      }\\n\\n      *,\\n      *:before,\\n      *:after\\n      {\\n        box-sizing: inherit;\\n      }\\n\\n      body\\n      {\\n        margin:0;\\n        background: #fafafa;\\n      }\\n    </style>\\n  </head>\\n\\n  <body>\\n    <div id=\"swagger-ui\"></div>\\n\\n    <script src=\"./swagger-ui-bundle.js\" charset=\"UTF-8\"> </script>\\n    <script src=\"./swagger-ui-standalone-preset.js\" charset=\"UTF-8\"> </script>\\n    <script>\\n    window.onload = function() {\\n      // Begin Swagger UI call region\\n      const ui = SwaggerUIBundle({\\n        url: \"https://petstore.swagger.io/v2/swagger.json\",\\n        dom_id: \\'#swagger-ui\\',\\n        deepLinking: true,\\n        presets: [\\n          SwaggerUIBundle.presets.apis,\\n          SwaggerUIStandalonePreset\\n        ],\\n        plugins: [\\n          SwaggerUIBundle.plugins.DownloadUrl\\n        ],\\n        layout: \"StandaloneLayout\"\\n      });\\n      // End Swagger UI call region\\n\\n      window.ui = ui;\\n    };\\n  </script>\\n  </body>\\n</html>\\n', as_json=None, error='Expecting value: line 1 column 1 (char 0)', timeout=False)"
      ]
     },
     "execution_count": 55,
     "metadata": {},
     "output_type": "execute_result"
    }
   ],
   "source": [
    "def simple_http_request(\n",
    "    host: str,\n",
    "    port: int = http.client.HTTP_PORT,\n",
    "    path: str = \"/\",\n",
    "    timeout: Optional[float] = None,\n",
    "    method: str = \"GET\",\n",
    "    try_json: bool = False,\n",
    "    follow_redirects: int = 0,\n",
    ") -> SimpleHttpResponse:\n",
    "    \"\"\"This function is a simple wrappper around http.client to make convenient requests and get the answer\n",
    "    knowing that it will never raise\"\"\"\n",
    "\n",
    "    conn = None\n",
    "    request_response = SimpleHttpResponse(status=None, decoded_data=None, as_json=None, timeout=False, error=None)\n",
    "\n",
    "    # Prepare the header for json request\n",
    "    headers = {}\n",
    "    if try_json:\n",
    "        headers[\"Accept\"] = \"application/json\"\n",
    "\n",
    "    try:\n",
    "        # Make the connection and the request\n",
    "        conn = http.client.HTTPConnection(host, port, timeout=timeout)\n",
    "        conn.request(method, path, headers=headers)\n",
    "        response = conn.getresponse()\n",
    "\n",
    "        # Follow redirects if required\n",
    "        location_header = response.getheader(\"location\")\n",
    "        if follow_redirects > 0 and location_header is not None:\n",
    "            url = urlparse(location_header)\n",
    "            return simple_http_request(\n",
    "                host=url.hostname or host,\n",
    "                port=url.port or port,\n",
    "                path=url.path or path,  # note: ignoring params, query and fragment\n",
    "                timeout=timeout,\n",
    "                method=method,\n",
    "                try_json=try_json,\n",
    "                follow_redirects=follow_redirects - 1,\n",
    "            )\n",
    "\n",
    "        # Decode the data\n",
    "        request_response.status = response.status\n",
    "        if response.status == http.client.OK:\n",
    "            encoding = response.headers.get_content_charset() or \"utf-8\"\n",
    "            request_response.decoded_data = response.read().decode(encoding)\n",
    "\n",
    "            # Interpret it as json\n",
    "            if try_json:\n",
    "                request_response.as_json = json.loads(request_response.decoded_data)\n",
    "\n",
    "    except socket.timeout as e:\n",
    "        logging.warning(e)\n",
    "        request_response.timeout = True\n",
    "        request_response.error = str(e)\n",
    "\n",
    "    except (http.client.HTTPException, socket.error, json.JSONDecodeError) as e:\n",
    "        logging.warning(e)\n",
    "        request_response.error = str(e)\n",
    "\n",
    "    except Exception as e:\n",
    "        logging.error(e, exc_info=True)\n",
    "        request_response.error = str(e)\n",
    "\n",
    "    finally:\n",
    "        if conn:\n",
    "            conn.close()\n",
    "\n",
    "    return request_response\n",
    "\n",
    "\n",
    "simple_http_request(\"blueos.local\", 6020, \"/docs\", follow_redirects=10, try_json=True)"
   ]
  },
  {
   "cell_type": "code",
   "execution_count": null,
   "metadata": {},
   "outputs": [],
   "source": [
    "\n",
    "\n",
    "# Example:\n",
    "def main():\n",
    "    sites = [\n",
    "        \"blueos.local\",\n",
    "        \"google.com\",\n",
    "        \"example.com\",\n",
    "        \"1.1.1.1\",\n",
    "        \"8.8.8.8\",\n",
    "        \"wikipedia.org\",\n",
    "        \"blueos.cloud\",\n",
    "        \"yahoo.com\",\n",
    "        \"microsoft.com\",\n",
    "    ]\n",
    "    responses = [simple_http_request(site, path=\"/\", port=80, timeout=0.2) for site in sites]\n",
    "    [print(response) for response in responses]\n",
    "\n",
    "\n",
    "# main()"
   ]
  },
  {
   "cell_type": "code",
   "execution_count": 21,
   "metadata": {},
   "outputs": [
    {
     "name": "stderr",
     "output_type": "stream",
     "text": [
      "ERROR:root:name 'urljoin' is not defined\n",
      "Traceback (most recent call last):\n",
      "  File \"/tmp/ipykernel_99351/4032161086.py\", line 29, in simple_http_request\n",
      "    location = urljoin(url, location_header)\n",
      "NameError: name 'urljoin' is not defined\n"
     ]
    },
    {
     "data": {
      "text/plain": [
       "SimpleHttpResponse(status=None, decoded_data=None, as_json=None, error=\"name 'urljoin' is not defined\", timeout=False)"
      ]
     },
     "execution_count": 21,
     "metadata": {},
     "output_type": "execute_result"
    }
   ],
   "source": []
  },
  {
   "cell_type": "code",
   "execution_count": 13,
   "metadata": {},
   "outputs": [
    {
     "name": "stderr",
     "output_type": "stream",
     "text": [
      "WARNING:root:timed out\n",
      "WARNING:root:[Errno -2] Name or service not known\n"
     ]
    },
    {
     "name": "stdout",
     "output_type": "stream",
     "text": [
      "status=None decoded_data=None as_json=None error='[Errno -2] Name or service not known' timeout=False\n",
      "status=301 decoded_data=None as_json=None error=None timeout=False\n",
      "status=200 decoded_data='<!doctype html>\\n<html>\\n<head>\\n    <title>Example Domain</title>\\n\\n    <meta charset=\"utf-8\" />\\n    <meta http-equiv=\"Content-type\" content=\"text/html; charset=utf-8\" />\\n    <meta name=\"viewport\" content=\"width=device-width, initial-scale=1\" />\\n    <style type=\"text/css\">\\n    body {\\n        background-color: #f0f0f2;\\n        margin: 0;\\n        padding: 0;\\n        font-family: -apple-system, system-ui, BlinkMacSystemFont, \"Segoe UI\", \"Open Sans\", \"Helvetica Neue\", Helvetica, Arial, sans-serif;\\n        \\n    }\\n    div {\\n        width: 600px;\\n        margin: 5em auto;\\n        padding: 2em;\\n        background-color: #fdfdff;\\n        border-radius: 0.5em;\\n        box-shadow: 2px 3px 7px 2px rgba(0,0,0,0.02);\\n    }\\n    a:link, a:visited {\\n        color: #38488f;\\n        text-decoration: none;\\n    }\\n    @media (max-width: 700px) {\\n        div {\\n            margin: 0 auto;\\n            width: auto;\\n        }\\n    }\\n    </style>    \\n</head>\\n\\n<body>\\n<div>\\n    <h1>Example Domain</h1>\\n    <p>This domain is for use in illustrative examples in documents. You may use this\\n    domain in literature without prior coordination or asking for permission.</p>\\n    <p><a href=\"https://www.iana.org/domains/example\">More information...</a></p>\\n</div>\\n</body>\\n</html>\\n' as_json=None error=None timeout=False\n",
      "status=301 decoded_data=None as_json=None error=None timeout=False\n",
      "status=None decoded_data=None as_json=None error='timed out' timeout=True\n",
      "status=301 decoded_data=None as_json=None error=None timeout=False\n",
      "status=301 decoded_data=None as_json=None error=None timeout=False\n",
      "status=301 decoded_data=None as_json=None error=None timeout=False\n",
      "status=301 decoded_data=None as_json=None error=None timeout=False\n"
     ]
    }
   ],
   "source": [
    "import asyncio\n",
    "\n",
    "async def simple_http_request_async(\n",
    "    host: str,\n",
    "    port: int = http.client.HTTP_PORT,\n",
    "    path: str = \"/\",\n",
    "    timeout: Optional[float] = None,\n",
    "    method: str = \"GET\",\n",
    "    try_json: bool = False,\n",
    ") -> SimpleHttpResponse:\n",
    "    \"\"\"This function is a simple async wrappper around the simple_http_request\"\"\"\n",
    "    return await asyncio.to_thread(simple_http_request, host=host, port=port, path=path, timeout=timeout, method=method, try_json=try_json)\n",
    "\n",
    "\n",
    "# Example:\n",
    "async def main():\n",
    "    sites = [\"blueos.local\", \"google.com\", \"example.com\", \"1.1.1.1\", \"8.8.8.8\", \"wikipedia.org\", \"blueos.cloud\", \"yahoo.com\", \"microsoft.com\"]\n",
    "    tasks = [simple_http_request_async(site, path=\"/\", port=80, timeout=1) for site in sites]\n",
    "    responses = await asyncio.gather(*tasks)\n",
    "    [print(response) for response in responses]\n",
    "\n",
    "# Run the asyncio event loop\n",
    "await main()"
   ]
  },
  {
   "cell_type": "code",
   "execution_count": 14,
   "metadata": {},
   "outputs": [
    {
     "name": "stderr",
     "output_type": "stream",
     "text": [
      "WARNING:root:timed out\n",
      "WARNING:root:[Errno -2] Name or service not known\n"
     ]
    },
    {
     "name": "stdout",
     "output_type": "stream",
     "text": [
      "status=301 decoded_data=None as_json=None error=None timeout=False\n",
      "status=301 decoded_data=None as_json=None error=None timeout=False\n",
      "status=200 decoded_data='<!doctype html>\\n<html>\\n<head>\\n    <title>Example Domain</title>\\n\\n    <meta charset=\"utf-8\" />\\n    <meta http-equiv=\"Content-type\" content=\"text/html; charset=utf-8\" />\\n    <meta name=\"viewport\" content=\"width=device-width, initial-scale=1\" />\\n    <style type=\"text/css\">\\n    body {\\n        background-color: #f0f0f2;\\n        margin: 0;\\n        padding: 0;\\n        font-family: -apple-system, system-ui, BlinkMacSystemFont, \"Segoe UI\", \"Open Sans\", \"Helvetica Neue\", Helvetica, Arial, sans-serif;\\n        \\n    }\\n    div {\\n        width: 600px;\\n        margin: 5em auto;\\n        padding: 2em;\\n        background-color: #fdfdff;\\n        border-radius: 0.5em;\\n        box-shadow: 2px 3px 7px 2px rgba(0,0,0,0.02);\\n    }\\n    a:link, a:visited {\\n        color: #38488f;\\n        text-decoration: none;\\n    }\\n    @media (max-width: 700px) {\\n        div {\\n            margin: 0 auto;\\n            width: auto;\\n        }\\n    }\\n    </style>    \\n</head>\\n\\n<body>\\n<div>\\n    <h1>Example Domain</h1>\\n    <p>This domain is for use in illustrative examples in documents. You may use this\\n    domain in literature without prior coordination or asking for permission.</p>\\n    <p><a href=\"https://www.iana.org/domains/example\">More information...</a></p>\\n</div>\\n</body>\\n</html>\\n' as_json=None error=None timeout=False\n",
      "status=301 decoded_data=None as_json=None error=None timeout=False\n",
      "status=301 decoded_data=None as_json=None error=None timeout=False\n",
      "status=301 decoded_data=None as_json=None error=None timeout=False\n",
      "status=301 decoded_data=None as_json=None error=None timeout=False\n",
      "status=None decoded_data=None as_json=None error='timed out' timeout=True\n",
      "status=None decoded_data=None as_json=None error='[Errno -2] Name or service not known' timeout=False\n"
     ]
    }
   ],
   "source": [
    "from concurrent import futures\n",
    "\n",
    "# Example:\n",
    "def main():\n",
    "    sites = [\"blueos.local\", \"google.com\", \"example.com\", \"1.1.1.1\", \"8.8.8.8\", \"wikipedia.org\", \"blueos.cloud\", \"yahoo.com\", \"microsoft.com\"]\n",
    "    with futures.ThreadPoolExecutor() as executor:\n",
    "        tasks = [executor.submit(simple_http_request, site, path=\"/\", port=80, timeout=1) for site in sites]\n",
    "        responses = [task.result() for task in futures.as_completed(tasks)]\n",
    "    [print(response) for response in responses]\n",
    "\n",
    "main()"
   ]
  }
 ],
 "metadata": {
  "kernelspec": {
   "display_name": "Python 3",
   "language": "python",
   "name": "python3"
  },
  "language_info": {
   "codemirror_mode": {
    "name": "ipython",
    "version": 3
   },
   "file_extension": ".py",
   "mimetype": "text/x-python",
   "name": "python",
   "nbconvert_exporter": "python",
   "pygments_lexer": "ipython3",
   "version": "3.9.16"
  },
  "orig_nbformat": 4
 },
 "nbformat": 4,
 "nbformat_minor": 2
}
